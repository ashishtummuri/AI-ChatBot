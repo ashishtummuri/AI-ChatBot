{
 "cells": [
  {
   "cell_type": "code",
   "execution_count": 1,
   "metadata": {},
   "outputs": [],
   "source": [
    "import numpy as np\n",
    "import pandas as pd\n",
    "from sklearn.preprocessing import StandardScaler"
   ]
  },
  {
   "cell_type": "code",
   "execution_count": 3,
   "metadata": {
    "scrolled": true
   },
   "outputs": [
    {
     "data": {
      "text/html": [
       "<div>\n",
       "<style scoped>\n",
       "    .dataframe tbody tr th:only-of-type {\n",
       "        vertical-align: middle;\n",
       "    }\n",
       "\n",
       "    .dataframe tbody tr th {\n",
       "        vertical-align: top;\n",
       "    }\n",
       "\n",
       "    .dataframe thead th {\n",
       "        text-align: right;\n",
       "    }\n",
       "</style>\n",
       "<table border=\"1\" class=\"dataframe\">\n",
       "  <thead>\n",
       "    <tr style=\"text-align: right;\">\n",
       "      <th></th>\n",
       "      <th>Core Width</th>\n",
       "      <th>Wavelength [µm]</th>\n",
       "      <th>Modal Index</th>\n",
       "      <th>Group Delay</th>\n",
       "      <th>Waveguide Disp</th>\n",
       "      <th>Material Disp</th>\n",
       "      <th>Total Disp</th>\n",
       "      <th>Near Field MFD</th>\n",
       "      <th>Far Field MFD</th>\n",
       "      <th>Effective MFD</th>\n",
       "      <th>Micro Bend Loss</th>\n",
       "      <th>Macro Bend Loss</th>\n",
       "    </tr>\n",
       "  </thead>\n",
       "  <tbody>\n",
       "    <tr>\n",
       "      <th>0</th>\n",
       "      <td>1.5</td>\n",
       "      <td>1.20000</td>\n",
       "      <td>1.448224</td>\n",
       "      <td>4880320.7</td>\n",
       "      <td>-18.3750</td>\n",
       "      <td>-8.15979</td>\n",
       "      <td>-27.3731</td>\n",
       "      <td>19.2304</td>\n",
       "      <td>12.8138</td>\n",
       "      <td>13.3404</td>\n",
       "      <td>8.89739</td>\n",
       "      <td>1712010.0</td>\n",
       "    </tr>\n",
       "    <tr>\n",
       "      <th>1</th>\n",
       "      <td>1.5</td>\n",
       "      <td>1.20201</td>\n",
       "      <td>1.448199</td>\n",
       "      <td>4880265.9</td>\n",
       "      <td>-18.2946</td>\n",
       "      <td>-7.91927</td>\n",
       "      <td>-27.0349</td>\n",
       "      <td>19.3444</td>\n",
       "      <td>12.8854</td>\n",
       "      <td>13.4243</td>\n",
       "      <td>9.34394</td>\n",
       "      <td>1723250.0</td>\n",
       "    </tr>\n",
       "    <tr>\n",
       "      <th>2</th>\n",
       "      <td>1.5</td>\n",
       "      <td>1.20402</td>\n",
       "      <td>1.448174</td>\n",
       "      <td>4880212.0</td>\n",
       "      <td>-18.1924</td>\n",
       "      <td>-7.67996</td>\n",
       "      <td>-26.7170</td>\n",
       "      <td>19.4602</td>\n",
       "      <td>12.9576</td>\n",
       "      <td>13.5089</td>\n",
       "      <td>9.81895</td>\n",
       "      <td>1734160.0</td>\n",
       "    </tr>\n",
       "    <tr>\n",
       "      <th>3</th>\n",
       "      <td>1.5</td>\n",
       "      <td>1.20603</td>\n",
       "      <td>1.448149</td>\n",
       "      <td>4880158.6</td>\n",
       "      <td>-18.1010</td>\n",
       "      <td>-7.44186</td>\n",
       "      <td>-26.3547</td>\n",
       "      <td>19.5779</td>\n",
       "      <td>13.0303</td>\n",
       "      <td>13.5943</td>\n",
       "      <td>10.32440</td>\n",
       "      <td>1744740.0</td>\n",
       "    </tr>\n",
       "    <tr>\n",
       "      <th>4</th>\n",
       "      <td>1.5</td>\n",
       "      <td>1.20804</td>\n",
       "      <td>1.448124</td>\n",
       "      <td>4880106.0</td>\n",
       "      <td>-18.0085</td>\n",
       "      <td>-7.20496</td>\n",
       "      <td>-26.0160</td>\n",
       "      <td>19.6975</td>\n",
       "      <td>13.1037</td>\n",
       "      <td>13.6805</td>\n",
       "      <td>10.86240</td>\n",
       "      <td>1754980.0</td>\n",
       "    </tr>\n",
       "  </tbody>\n",
       "</table>\n",
       "</div>"
      ],
      "text/plain": [
       "   Core Width  Wavelength [µm]   Modal Index   Group Delay   Waveguide Disp  \\\n",
       "0         1.5          1.20000      1.448224     4880320.7         -18.3750   \n",
       "1         1.5          1.20201      1.448199     4880265.9         -18.2946   \n",
       "2         1.5          1.20402      1.448174     4880212.0         -18.1924   \n",
       "3         1.5          1.20603      1.448149     4880158.6         -18.1010   \n",
       "4         1.5          1.20804      1.448124     4880106.0         -18.0085   \n",
       "\n",
       "    Material Disp   Total Disp   Near Field MFD   Far Field MFD  \\\n",
       "0        -8.15979     -27.3731          19.2304         12.8138   \n",
       "1        -7.91927     -27.0349          19.3444         12.8854   \n",
       "2        -7.67996     -26.7170          19.4602         12.9576   \n",
       "3        -7.44186     -26.3547          19.5779         13.0303   \n",
       "4        -7.20496     -26.0160          19.6975         13.1037   \n",
       "\n",
       "    Effective MFD   Micro Bend Loss   Macro Bend Loss  \n",
       "0         13.3404           8.89739         1712010.0  \n",
       "1         13.4243           9.34394         1723250.0  \n",
       "2         13.5089           9.81895         1734160.0  \n",
       "3         13.5943          10.32440         1744740.0  \n",
       "4         13.6805          10.86240         1754980.0  "
      ]
     },
     "execution_count": 3,
     "metadata": {},
     "output_type": "execute_result"
    }
   ],
   "source": [
    "df = pd.read_csv('optical_fiber.csv',encoding= 'unicode_escape')\n",
    "df.head()"
   ]
  },
  {
   "cell_type": "code",
   "execution_count": 4,
   "metadata": {},
   "outputs": [
    {
     "data": {
      "text/plain": [
       "(7000, 12)"
      ]
     },
     "execution_count": 4,
     "metadata": {},
     "output_type": "execute_result"
    }
   ],
   "source": [
    "df.shape"
   ]
  },
  {
   "cell_type": "code",
   "execution_count": 5,
   "metadata": {},
   "outputs": [],
   "source": [
    "X = df[['Core Width', 'Wavelength [µm]']]"
   ]
  },
  {
   "cell_type": "code",
   "execution_count": 6,
   "metadata": {
    "scrolled": true
   },
   "outputs": [],
   "source": [
    "df.drop(['Core Width','Wavelength [µm]'], axis = 1, inplace = True)"
   ]
  },
  {
   "cell_type": "code",
   "execution_count": 7,
   "metadata": {},
   "outputs": [
    {
     "data": {
      "text/html": [
       "<div>\n",
       "<style scoped>\n",
       "    .dataframe tbody tr th:only-of-type {\n",
       "        vertical-align: middle;\n",
       "    }\n",
       "\n",
       "    .dataframe tbody tr th {\n",
       "        vertical-align: top;\n",
       "    }\n",
       "\n",
       "    .dataframe thead th {\n",
       "        text-align: right;\n",
       "    }\n",
       "</style>\n",
       "<table border=\"1\" class=\"dataframe\">\n",
       "  <thead>\n",
       "    <tr style=\"text-align: right;\">\n",
       "      <th></th>\n",
       "      <th>Modal Index</th>\n",
       "      <th>Group Delay</th>\n",
       "      <th>Waveguide Disp</th>\n",
       "      <th>Material Disp</th>\n",
       "      <th>Total Disp</th>\n",
       "      <th>Near Field MFD</th>\n",
       "      <th>Far Field MFD</th>\n",
       "      <th>Effective MFD</th>\n",
       "      <th>Micro Bend Loss</th>\n",
       "      <th>Macro Bend Loss</th>\n",
       "    </tr>\n",
       "  </thead>\n",
       "  <tbody>\n",
       "    <tr>\n",
       "      <th>0</th>\n",
       "      <td>1.448224</td>\n",
       "      <td>4880320.7</td>\n",
       "      <td>-18.3750</td>\n",
       "      <td>-8.15979</td>\n",
       "      <td>-27.3731</td>\n",
       "      <td>19.2304</td>\n",
       "      <td>12.8138</td>\n",
       "      <td>13.3404</td>\n",
       "      <td>8.89739</td>\n",
       "      <td>1712010.0</td>\n",
       "    </tr>\n",
       "    <tr>\n",
       "      <th>1</th>\n",
       "      <td>1.448199</td>\n",
       "      <td>4880265.9</td>\n",
       "      <td>-18.2946</td>\n",
       "      <td>-7.91927</td>\n",
       "      <td>-27.0349</td>\n",
       "      <td>19.3444</td>\n",
       "      <td>12.8854</td>\n",
       "      <td>13.4243</td>\n",
       "      <td>9.34394</td>\n",
       "      <td>1723250.0</td>\n",
       "    </tr>\n",
       "    <tr>\n",
       "      <th>2</th>\n",
       "      <td>1.448174</td>\n",
       "      <td>4880212.0</td>\n",
       "      <td>-18.1924</td>\n",
       "      <td>-7.67996</td>\n",
       "      <td>-26.7170</td>\n",
       "      <td>19.4602</td>\n",
       "      <td>12.9576</td>\n",
       "      <td>13.5089</td>\n",
       "      <td>9.81895</td>\n",
       "      <td>1734160.0</td>\n",
       "    </tr>\n",
       "    <tr>\n",
       "      <th>3</th>\n",
       "      <td>1.448149</td>\n",
       "      <td>4880158.6</td>\n",
       "      <td>-18.1010</td>\n",
       "      <td>-7.44186</td>\n",
       "      <td>-26.3547</td>\n",
       "      <td>19.5779</td>\n",
       "      <td>13.0303</td>\n",
       "      <td>13.5943</td>\n",
       "      <td>10.32440</td>\n",
       "      <td>1744740.0</td>\n",
       "    </tr>\n",
       "    <tr>\n",
       "      <th>4</th>\n",
       "      <td>1.448124</td>\n",
       "      <td>4880106.0</td>\n",
       "      <td>-18.0085</td>\n",
       "      <td>-7.20496</td>\n",
       "      <td>-26.0160</td>\n",
       "      <td>19.6975</td>\n",
       "      <td>13.1037</td>\n",
       "      <td>13.6805</td>\n",
       "      <td>10.86240</td>\n",
       "      <td>1754980.0</td>\n",
       "    </tr>\n",
       "  </tbody>\n",
       "</table>\n",
       "</div>"
      ],
      "text/plain": [
       "    Modal Index   Group Delay   Waveguide Disp   Material Disp   Total Disp  \\\n",
       "0      1.448224     4880320.7         -18.3750        -8.15979     -27.3731   \n",
       "1      1.448199     4880265.9         -18.2946        -7.91927     -27.0349   \n",
       "2      1.448174     4880212.0         -18.1924        -7.67996     -26.7170   \n",
       "3      1.448149     4880158.6         -18.1010        -7.44186     -26.3547   \n",
       "4      1.448124     4880106.0         -18.0085        -7.20496     -26.0160   \n",
       "\n",
       "    Near Field MFD   Far Field MFD   Effective MFD   Micro Bend Loss  \\\n",
       "0          19.2304         12.8138         13.3404           8.89739   \n",
       "1          19.3444         12.8854         13.4243           9.34394   \n",
       "2          19.4602         12.9576         13.5089           9.81895   \n",
       "3          19.5779         13.0303         13.5943          10.32440   \n",
       "4          19.6975         13.1037         13.6805          10.86240   \n",
       "\n",
       "    Macro Bend Loss  \n",
       "0         1712010.0  \n",
       "1         1723250.0  \n",
       "2         1734160.0  \n",
       "3         1744740.0  \n",
       "4         1754980.0  "
      ]
     },
     "execution_count": 7,
     "metadata": {},
     "output_type": "execute_result"
    }
   ],
   "source": [
    "df.head()"
   ]
  },
  {
   "cell_type": "code",
   "execution_count": 8,
   "metadata": {},
   "outputs": [],
   "source": [
    "# scaler = StandardScaler()\n",
    "# scaler.fit(X)\n",
    "# scaled_x = scaler.transform(X)\n",
    "# scaler.fit(df)\n",
    "# scaled_y = scaler.transform(df)"
   ]
  },
  {
   "cell_type": "code",
   "execution_count": 9,
   "metadata": {},
   "outputs": [],
   "source": [
    "from sklearn.model_selection import train_test_split\n",
    "X_train, X_test, y_train, y_test = train_test_split(X, df, test_size=0.2,random_state=42)"
   ]
  },
  {
   "cell_type": "code",
   "execution_count": 10,
   "metadata": {},
   "outputs": [
    {
     "name": "stdout",
     "output_type": "stream",
     "text": [
      "(5600, 2)\n",
      "(1400, 2)\n",
      "(5600, 10)\n",
      "(1400, 10)\n"
     ]
    }
   ],
   "source": [
    "print(X_train.shape)\n",
    "print(X_test.shape)\n",
    "print(y_train.shape)\n",
    "print(y_test.shape)"
   ]
  },
  {
   "cell_type": "code",
   "execution_count": 11,
   "metadata": {
    "scrolled": true
   },
   "outputs": [
    {
     "data": {
      "text/plain": [
       "RandomForestRegressor(n_estimators=60, random_state=50)"
      ]
     },
     "execution_count": 11,
     "metadata": {},
     "output_type": "execute_result"
    }
   ],
   "source": [
    "from sklearn.ensemble import RandomForestRegressor\n",
    "regressor = RandomForestRegressor(n_estimators = 60, random_state = 50)\n",
    "  \n",
    "# fit the regressor with x and y data\n",
    "regressor.fit(X_train, y_train)  "
   ]
  },
  {
   "cell_type": "code",
   "execution_count": 13,
   "metadata": {},
   "outputs": [
    {
     "data": {
      "text/plain": [
       "-7.518273945339438e-05"
      ]
     },
     "execution_count": 13,
     "metadata": {},
     "output_type": "execute_result"
    }
   ],
   "source": [
    "0.9997182873561418 - regressor.score(X_test,y_test)"
   ]
  },
  {
   "cell_type": "code",
   "execution_count": 12,
   "metadata": {},
   "outputs": [
    {
     "data": {
      "text/plain": [
       "0.9997934700955952"
      ]
     },
     "execution_count": 12,
     "metadata": {},
     "output_type": "execute_result"
    }
   ],
   "source": [
    "regressor.score(X_test,y_test)"
   ]
  },
  {
   "cell_type": "code",
   "execution_count": 18,
   "metadata": {},
   "outputs": [],
   "source": [
    "yx = regressor.predict([[1.5,1.20201]])"
   ]
  },
  {
   "cell_type": "code",
   "execution_count": 19,
   "metadata": {
    "scrolled": true
   },
   "outputs": [
    {
     "data": {
      "text/plain": [
       "1.4482061483333342"
      ]
     },
     "execution_count": 19,
     "metadata": {},
     "output_type": "execute_result"
    }
   ],
   "source": [
    "yx[0][0]"
   ]
  },
  {
   "cell_type": "markdown",
   "metadata": {},
   "source": [
    "# \t4880265.9 and 4880273.182999993"
   ]
  },
  {
   "cell_type": "code",
   "execution_count": 159,
   "metadata": {},
   "outputs": [
    {
     "data": {
      "text/plain": [
       "0.0"
      ]
     },
     "execution_count": 159,
     "metadata": {},
     "output_type": "execute_result"
    }
   ],
   "source": [
    "0.9997182873561418 - regressor.score(X_test,y_test)"
   ]
  },
  {
   "cell_type": "code",
   "execution_count": null,
   "metadata": {},
   "outputs": [],
   "source": []
  },
  {
   "cell_type": "code",
   "execution_count": null,
   "metadata": {},
   "outputs": [],
   "source": []
  }
 ],
 "metadata": {
  "kernelspec": {
   "display_name": "Python 3",
   "language": "python",
   "name": "python3"
  },
  "language_info": {
   "codemirror_mode": {
    "name": "ipython",
    "version": 3
   },
   "file_extension": ".py",
   "mimetype": "text/x-python",
   "name": "python",
   "nbconvert_exporter": "python",
   "pygments_lexer": "ipython3",
   "version": "3.8.3"
  }
 },
 "nbformat": 4,
 "nbformat_minor": 4
}
